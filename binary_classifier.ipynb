{
 "cells": [
  {
   "attachments": {},
   "cell_type": "markdown",
   "metadata": {},
   "source": [
    "Preprocessing the 3 files: test, train, valid.\n",
    "Only including rows that are true, mostly true, false, and pants-fire.\n",
    "Converting those names to the standard True and False values."
   ]
  },
  {
   "cell_type": "code",
   "execution_count": 1,
   "metadata": {},
   "outputs": [],
   "source": [
    "import pandas as pd\n",
    "import numpy as np\n",
    "\n",
    "train = pd.read_csv('liar_dataset/train.tsv', \n",
    "                            delimiter='\\t',\n",
    "                            header=None,\n",
    "                            names=['id','label','statement','subject','speaker','job_title','state_info','party_affiliation','barely_true_counts','false_counts','half_true_counts','mostly_true_counts','pants_on_fire_counts','context'])\n",
    "test = pd.read_csv('liar_dataset/test.tsv', \n",
    "                            delimiter='\\t',\n",
    "                            header=None,\n",
    "                            names=['id','label','statement','subject','speaker','job_title','state_info','party_affiliation','barely_true_counts','false_counts','half_true_counts','mostly_true_counts','pants_on_fire_counts','context'])\n",
    "valid = pd.read_csv('liar_dataset/valid.tsv', \n",
    "                            delimiter='\\t',\n",
    "                            header=None,\n",
    "                            names=['id','label','statement','subject','speaker','job_title','state_info','party_affiliation','barely_true_counts','false_counts','half_true_counts','mostly_true_counts','pants_on_fire_counts','context'])\n",
    "\n",
    "bools = ['true', 'false']\n",
    "\n",
    "train['label'] = np.where(train['label'] == 'mostly-true', 'true', train['label'])\n",
    "train['label'] = np.where(train['label'] == 'pants-fire', 'false', train['label'])\n",
    "train = train.loc[train['label'].isin(bools)]\n",
    "\n",
    "test['label'] = np.where(test['label'] == 'mostly-true', 'true', test['label'])\n",
    "test['label'] = np.where(test['label'] == 'pants-fire', 'false', test['label'])\n",
    "test = test.loc[test['label'].isin(bools)]\n",
    "\n",
    "valid['label'] = np.where(valid['label'] == 'mostly-true', 'true', valid['label'])\n",
    "valid['label'] = np.where(valid['label'] == 'pants-fire', 'false', valid['label'])\n",
    "valid = valid.loc[valid['label'].isin(bools)]"
   ]
  },
  {
   "attachments": {},
   "cell_type": "markdown",
   "metadata": {},
   "source": [
    "After subsetting the data for binary T/F values, the number of rows in each table is as follows:\n",
    "- valid: 799\n",
    "- test: 790\n",
    "- train: 6472"
   ]
  },
  {
   "attachments": {},
   "cell_type": "markdown",
   "metadata": {},
   "source": [
    "More preprocessing"
   ]
  },
  {
   "cell_type": "code",
   "execution_count": 2,
   "metadata": {},
   "outputs": [
    {
     "name": "stderr",
     "output_type": "stream",
     "text": [
      "[nltk_data] Downloading package stopwords to\n",
      "[nltk_data]     /Users/lukekaplan/nltk_data...\n",
      "[nltk_data]   Package stopwords is already up-to-date!\n",
      "[nltk_data] Downloading package wordnet to\n",
      "[nltk_data]     /Users/lukekaplan/nltk_data...\n",
      "[nltk_data]   Package wordnet is already up-to-date!\n"
     ]
    }
   ],
   "source": [
    "import nltk\n",
    "from nltk.corpus import stopwords\n",
    "from nltk.stem import WordNetLemmatizer\n",
    "import re\n",
    "\n",
    "# Download NLTK resources\n",
    "nltk.download('stopwords')\n",
    "nltk.download('wordnet')\n",
    "\n",
    "def clean_text(text):\n",
    "    if not isinstance(text, str):\n",
    "        return text\n",
    "    # Lowercasing\n",
    "    text = text.lower()\n",
    "    # Remove non-alphanumeric characters\n",
    "    text = re.sub(r'\\W', ' ', text)\n",
    "    # Remove all single characters\n",
    "    text = re.sub(r'\\s+[a-zA-Z]\\s+', ' ', text)\n",
    "    # Substituting multiple spaces with single space\n",
    "    text = re.sub(r'\\s+', ' ', text, flags=re.I)\n",
    "\n",
    "    # Tokenization\n",
    "    tokens = text.split()\n",
    "\n",
    "    # Removal of Stop Words and Lemmatization\n",
    "    lem = WordNetLemmatizer()\n",
    "    tokens = [lem.lemmatize(word) for word in tokens if word not in set(stopwords.words('english'))]\n",
    "    return ' '.join(tokens)\n",
    "\n",
    "train['statement'] = train['statement'].apply(clean_text)\n",
    "valid['statement'] = valid['statement'].apply(clean_text)\n",
    "test['statement'] = test['statement'].apply(clean_text)"
   ]
  },
  {
   "attachments": {},
   "cell_type": "markdown",
   "metadata": {},
   "source": [
    "TF-IDF Vectorization - converts the string into quantitative data"
   ]
  },
  {
   "cell_type": "code",
   "execution_count": 4,
   "metadata": {},
   "outputs": [
    {
     "ename": "ModuleNotFoundError",
     "evalue": "No module named 'sklearn'",
     "output_type": "error",
     "traceback": [
      "\u001b[0;31m---------------------------------------------------------------------------\u001b[0m",
      "\u001b[0;31mModuleNotFoundError\u001b[0m                       Traceback (most recent call last)",
      "Cell \u001b[0;32mIn[4], line 1\u001b[0m\n\u001b[0;32m----> 1\u001b[0m \u001b[39mfrom\u001b[39;00m \u001b[39msklearn\u001b[39;00m\u001b[39m.\u001b[39;00m\u001b[39mfeature_extraction\u001b[39;00m\u001b[39m.\u001b[39;00m\u001b[39mtext\u001b[39;00m \u001b[39mimport\u001b[39;00m TfidfVectorizer\n\u001b[1;32m      3\u001b[0m vectorizer \u001b[39m=\u001b[39m TfidfVectorizer(max_features\u001b[39m=\u001b[39m\u001b[39m1000\u001b[39m)  \u001b[39m# Number of features variable\u001b[39;00m\n\u001b[1;32m      4\u001b[0m X_train \u001b[39m=\u001b[39m vectorizer\u001b[39m.\u001b[39mfit_transform(train[\u001b[39m'\u001b[39m\u001b[39mtitle\u001b[39m\u001b[39m'\u001b[39m])\n",
      "\u001b[0;31mModuleNotFoundError\u001b[0m: No module named 'sklearn'"
     ]
    }
   ],
   "source": [
    "from sklearn.feature_extraction.text import TfidfVectorizer\n",
    "\n",
    "vectorizer = TfidfVectorizer(max_features=1000)  # Number of features variable\n",
    "X_train = vectorizer.fit_transform(train['title'])\n",
    "X_valid = vectorizer.transform(valid['title'])\n",
    "X_test = vectorizer.transform(test['title'])\n"
   ]
  }
 ],
 "metadata": {
  "kernelspec": {
   "display_name": "Python 3",
   "language": "python",
   "name": "python3"
  },
  "language_info": {
   "codemirror_mode": {
    "name": "ipython",
    "version": 3
   },
   "file_extension": ".py",
   "mimetype": "text/x-python",
   "name": "python",
   "nbconvert_exporter": "python",
   "pygments_lexer": "ipython3",
   "version": "3.11.5"
  },
  "orig_nbformat": 4
 },
 "nbformat": 4,
 "nbformat_minor": 2
}
